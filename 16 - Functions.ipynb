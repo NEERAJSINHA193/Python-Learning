{
 "cells": [
  {
   "cell_type": "markdown",
   "metadata": {},
   "source": [
    "## Function\n",
    "\n",
    "* It is a block of code \n",
    "* Use to avoid writing same block of code again and again \n",
    "* Enhance code reusability\n",
    "* we use def keyword to define the function\n",
    "\n",
    "Syntax : \n",
    "    \n",
    "    def func_name():\n",
    "        line 1...\n",
    "        line 2...\n",
    "        "
   ]
  },
  {
   "cell_type": "code",
   "execution_count": 1,
   "metadata": {},
   "outputs": [
    {
     "name": "stdout",
     "output_type": "stream",
     "text": [
      "Hello!\n",
      "Hello!\n"
     ]
    }
   ],
   "source": [
    "# creating a function\n",
    "\n",
    "def print_hello():\n",
    "    print(\"Hello!\")\n",
    "\n",
    "print_hello()\n",
    "print_hello()"
   ]
  },
  {
   "cell_type": "code",
   "execution_count": 2,
   "metadata": {},
   "outputs": [
    {
     "name": "stdout",
     "output_type": "stream",
     "text": [
      "10\n",
      "11\n",
      "15\n",
      "16\n"
     ]
    }
   ],
   "source": [
    "# function with paramenter\n",
    "# case 1 : one parameter\n",
    "\n",
    "def print_number(num):\n",
    "    print(num)\n",
    "    print(num + 1)\n",
    "    \n",
    "print_number(10)\n",
    "print_number(15)"
   ]
  },
  {
   "cell_type": "code",
   "execution_count": 3,
   "metadata": {},
   "outputs": [
    {
     "name": "stdout",
     "output_type": "stream",
     "text": [
      "My name is Neeraj\n",
      "My friend name is Nora\n",
      "My name is Nobita\n",
      "My friend name is Doremon\n"
     ]
    }
   ],
   "source": [
    "# case 2 : two parameters\n",
    "\n",
    "def print_str(my_str1, my_str2):\n",
    "    print(f'My name is {my_str1}')\n",
    "    print(f'My friend name is {my_str2}')\n",
    "    \n",
    "print_str(\"Neeraj\",\"Nora\")\n",
    "print_str(\"Nobita\",\"Doremon\")"
   ]
  },
  {
   "cell_type": "code",
   "execution_count": 4,
   "metadata": {},
   "outputs": [
    {
     "data": {
      "text/plain": [
       "30"
      ]
     },
     "execution_count": 4,
     "metadata": {},
     "output_type": "execute_result"
    }
   ],
   "source": [
    "# function to return the sum of two numbers\n",
    "\n",
    "def sum_two_nums(n1, n2):\n",
    "    return n1 + n2\n",
    "\n",
    "sum_two_nums(10,20)"
   ]
  },
  {
   "cell_type": "code",
   "execution_count": 5,
   "metadata": {},
   "outputs": [
    {
     "name": "stdout",
     "output_type": "stream",
     "text": [
      "20 is even\n"
     ]
    }
   ],
   "source": [
    "# function to check given number is odd or even\n",
    "\n",
    "def odd_even(num):\n",
    "    \n",
    "    if num % 2 == 0:\n",
    "        print(f'{num} is even')\n",
    "    else:\n",
    "        print(f'{num} is odd')\n",
    "        \n",
    "odd_even(20)"
   ]
  },
  {
   "cell_type": "code",
   "execution_count": 6,
   "metadata": {},
   "outputs": [
    {
     "name": "stdout",
     "output_type": "stream",
     "text": [
      "Item at index 0 : 10\n",
      "Item at index 1 : hello\n",
      "Item at index 2 : 20\n",
      "Item at index 3 : Sinha\n",
      "Item at index 4 : 30\n"
     ]
    }
   ],
   "source": [
    "# function to print items of a list\n",
    "\n",
    "def print_list(l):\n",
    "    \n",
    "    index = 0\n",
    "    \n",
    "    for item in l:\n",
    "        print(f'Item at index {index} : {item}')\n",
    "        index += 1\n",
    "        \n",
    "print_list([10, \"hello\", 20, \"Sinha\", 30])"
   ]
  },
  {
   "cell_type": "code",
   "execution_count": 7,
   "metadata": {},
   "outputs": [
    {
     "name": "stdout",
     "output_type": "stream",
     "text": [
      "Enter number 1 : 30\n",
      "Enter number 2 : 20\n"
     ]
    },
    {
     "data": {
      "text/plain": [
       "500"
      ]
     },
     "execution_count": 7,
     "metadata": {},
     "output_type": "execute_result"
    }
   ],
   "source": [
    "# use one function value in other\n",
    "# add two numbers then multiply the result with other number\n",
    "\n",
    "def add_two(n1, n2):\n",
    "    return n1 + n2\n",
    "\n",
    "def mul_result(num):\n",
    "    \n",
    "    a = int(input(\"Enter number 1 : \"))\n",
    "    b = int(input(\"Enter number 2 : \"))\n",
    "\n",
    "    res = add_two(a,b)\n",
    "    \n",
    "    return res * num\n",
    "\n",
    "mul_result(10)"
   ]
  },
  {
   "cell_type": "code",
   "execution_count": null,
   "metadata": {},
   "outputs": [],
   "source": []
  }
 ],
 "metadata": {
  "kernelspec": {
   "display_name": "Python 3",
   "language": "python",
   "name": "python3"
  },
  "language_info": {
   "codemirror_mode": {
    "name": "ipython",
    "version": 3
   },
   "file_extension": ".py",
   "mimetype": "text/x-python",
   "name": "python",
   "nbconvert_exporter": "python",
   "pygments_lexer": "ipython3",
   "version": "3.7.6"
  }
 },
 "nbformat": 4,
 "nbformat_minor": 4
}
