{
 "cells": [
  {
   "cell_type": "markdown",
   "metadata": {},
   "source": [
    "## for loop\n",
    "\n",
    "* used to iterate over a sequence (list/tuple/dictionary/set/string)\n",
    "\n",
    "Syntax : \n",
    "    \n",
    "for item_name in sequence_name:\n",
    "\n",
    "    line 1\n",
    "    line 2"
   ]
  },
  {
   "cell_type": "code",
   "execution_count": 2,
   "metadata": {},
   "outputs": [
    {
     "name": "stdout",
     "output_type": "stream",
     "text": [
      "1\n",
      "3\n",
      "5\n",
      "6\n",
      "8\n"
     ]
    }
   ],
   "source": [
    "# apply for loop\n",
    "# case 1 : on list\n",
    "\n",
    "my_list = [1,3,5,6,8]\n",
    "\n",
    "for item in my_list:\n",
    "    print(item)"
   ]
  },
  {
   "cell_type": "code",
   "execution_count": 4,
   "metadata": {},
   "outputs": [
    {
     "name": "stdout",
     "output_type": "stream",
     "text": [
      "P\n",
      "y\n",
      "t\n",
      "h\n",
      "o\n",
      "n\n"
     ]
    }
   ],
   "source": [
    "# case 2 : on string\n",
    "\n",
    "str_name = \"Python\"\n",
    "\n",
    "for item in str_name:\n",
    "    print(item)"
   ]
  },
  {
   "cell_type": "code",
   "execution_count": 5,
   "metadata": {},
   "outputs": [
    {
     "name": "stdout",
     "output_type": "stream",
     "text": [
      "2\n",
      "Hello\n",
      "1\n",
      "4.0\n"
     ]
    }
   ],
   "source": [
    "# case 3 : on tuple\n",
    "\n",
    "tup_name = (2, \"Hello\", 1, 4.0)\n",
    "\n",
    "for item in tup_name:\n",
    "    print(item)"
   ]
  },
  {
   "cell_type": "code",
   "execution_count": 12,
   "metadata": {},
   "outputs": [
    {
     "name": "stdout",
     "output_type": "stream",
     "text": [
      "key : k1 --> value : Neeraj\n",
      "key : k2 --> value : Uzwal\n",
      "key : k3 --> value : Anoz\n"
     ]
    }
   ],
   "source": [
    "# case 4 : on dictionary\n",
    "\n",
    "dict_name = {\"k1\" : \"Neeraj\", \"k2\" : \"Uzwal\", \"k3\" : \"Anoz\"}\n",
    "\n",
    "for key,value in dict_name.items():\n",
    "    print(f'key : {key} --> value : {value}')"
   ]
  },
  {
   "cell_type": "code",
   "execution_count": 14,
   "metadata": {},
   "outputs": [
    {
     "name": "stdout",
     "output_type": "stream",
     "text": [
      "1.0\n",
      "2\n",
      "10\n",
      "hello\n"
     ]
    }
   ],
   "source": [
    "# case 5 : on set\n",
    "\n",
    "set_name = {2, \"hello\", 10, 1.0}\n",
    "\n",
    "for item in set_name:\n",
    "    print(item)"
   ]
  },
  {
   "cell_type": "code",
   "execution_count": 15,
   "metadata": {},
   "outputs": [
    {
     "name": "stdout",
     "output_type": "stream",
     "text": [
      "1 is odd..\n",
      "10 is even..\n",
      "15 is odd..\n",
      "12 is even..\n",
      "20 is even..\n",
      "31 is odd..\n"
     ]
    }
   ],
   "source": [
    "# check whether no. is odd or even\n",
    "# use if-else and for-loop together\n",
    "\n",
    "num_list = [1, 10, 15, 12, 20, 31]\n",
    "\n",
    "for num in num_list:\n",
    "    \n",
    "    if num % 2 == 0:\n",
    "        print(f\"{num} is even..\")\n",
    "    else:\n",
    "        print(f\"{num} is odd..\")"
   ]
  },
  {
   "cell_type": "code",
   "execution_count": 16,
   "metadata": {},
   "outputs": [
    {
     "name": "stdout",
     "output_type": "stream",
     "text": [
      "Sum is 89\n"
     ]
    }
   ],
   "source": [
    "# sum of all the numbers in a given list\n",
    "\n",
    "var_sum = 0    # to calculate the sum\n",
    "\n",
    "for num in num_list:\n",
    "    var_sum = var_sum + num\n",
    "\n",
    "print(f\"Sum is {var_sum}\")"
   ]
  },
  {
   "cell_type": "code",
   "execution_count": 17,
   "metadata": {},
   "outputs": [
    {
     "name": "stdout",
     "output_type": "stream",
     "text": [
      "a\n",
      "d\n",
      "b\n"
     ]
    }
   ],
   "source": [
    "# break the flow of the loop\n",
    "# use break keyword\n",
    "# we can stop our loop once the breack is declared\n",
    "\n",
    "my_list = ['a', 'd', 'b', 'm', 'l']\n",
    "\n",
    "for item in my_list:\n",
    "    \n",
    "    print(item)\n",
    "    \n",
    "    if item == 'b':\n",
    "        break"
   ]
  },
  {
   "cell_type": "code",
   "execution_count": 18,
   "metadata": {},
   "outputs": [
    {
     "name": "stdout",
     "output_type": "stream",
     "text": [
      "a\n",
      "d\n",
      "m\n",
      "l\n"
     ]
    }
   ],
   "source": [
    "# break the current iteration and continue with the rest\n",
    "# use continue keyword\n",
    "# skips the current iteration and rest remain unaffected\n",
    "\n",
    "for item in my_list:\n",
    "    \n",
    "    if item == 'b':\n",
    "        continue\n",
    "    \n",
    "    print(item)"
   ]
  },
  {
   "cell_type": "code",
   "execution_count": null,
   "metadata": {},
   "outputs": [],
   "source": []
  }
 ],
 "metadata": {
  "kernelspec": {
   "display_name": "Python 3",
   "language": "python",
   "name": "python3"
  },
  "language_info": {
   "codemirror_mode": {
    "name": "ipython",
    "version": 3
   },
   "file_extension": ".py",
   "mimetype": "text/x-python",
   "name": "python",
   "nbconvert_exporter": "python",
   "pygments_lexer": "ipython3",
   "version": "3.7.6"
  }
 },
 "nbformat": 4,
 "nbformat_minor": 4
}
