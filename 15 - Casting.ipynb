{
 "cells": [
  {
   "cell_type": "markdown",
   "metadata": {},
   "source": [
    "## Casting\n",
    "\n",
    "* It is a methodology by which we can casts a variable in some specific type or changing its type to some other date type"
   ]
  },
  {
   "cell_type": "code",
   "execution_count": 1,
   "metadata": {},
   "outputs": [
    {
     "name": "stdout",
     "output_type": "stream",
     "text": [
      "2\n",
      "<class 'int'>\n"
     ]
    }
   ],
   "source": [
    "# assign int type value to a variable\n",
    "# using casting method\n",
    "\n",
    "i = int(2)\n",
    "\n",
    "print(i)\n",
    "print(type(i))"
   ]
  },
  {
   "cell_type": "code",
   "execution_count": 2,
   "metadata": {},
   "outputs": [
    {
     "name": "stdout",
     "output_type": "stream",
     "text": [
      "10.24\n",
      "<class 'float'>\n"
     ]
    }
   ],
   "source": [
    "# assign float value to a variable\n",
    "\n",
    "j = float(10.24)\n",
    "\n",
    "print(j)\n",
    "print(type(j))"
   ]
  },
  {
   "cell_type": "code",
   "execution_count": 3,
   "metadata": {},
   "outputs": [
    {
     "name": "stdout",
     "output_type": "stream",
     "text": [
      "Neeraj\n",
      "<class 'str'>\n"
     ]
    }
   ],
   "source": [
    "# assign string value to a variable\n",
    "\n",
    "k = str(\"Neeraj\")\n",
    "\n",
    "print(k)\n",
    "print(type(k))"
   ]
  },
  {
   "cell_type": "code",
   "execution_count": 4,
   "metadata": {},
   "outputs": [
    {
     "name": "stdout",
     "output_type": "stream",
     "text": [
      "Original value : 12.5\n",
      "<class 'float'>\n",
      "Value after casting : 12\n",
      "<class 'int'>\n"
     ]
    }
   ],
   "source": [
    "# convert float into int\n",
    "\n",
    "num = 12.50\n",
    "\n",
    "print(f'Original value : {num}')\n",
    "print(type(num))\n",
    "\n",
    "num = int(num)\n",
    "\n",
    "print(f'Value after casting : {num}')\n",
    "print(type(num))"
   ]
  },
  {
   "cell_type": "code",
   "execution_count": 5,
   "metadata": {},
   "outputs": [
    {
     "name": "stdout",
     "output_type": "stream",
     "text": [
      "Original value : 12\n",
      "<class 'int'>\n",
      "Value after casting : 12.0\n",
      "<class 'float'>\n"
     ]
    }
   ],
   "source": [
    "# convert int into float\n",
    "\n",
    "num = 12\n",
    "\n",
    "print(f'Original value : {num}')\n",
    "print(type(num))\n",
    "\n",
    "num = float(num)\n",
    "\n",
    "print(f'Value after casting : {num}')\n",
    "print(type(num))"
   ]
  },
  {
   "cell_type": "code",
   "execution_count": 6,
   "metadata": {},
   "outputs": [
    {
     "name": "stdout",
     "output_type": "stream",
     "text": [
      "Original value : 69\n",
      "<class 'str'>\n",
      "Value after casting : 69\n",
      "<class 'int'>\n"
     ]
    }
   ],
   "source": [
    "# convert string into int\n",
    "# case 1\n",
    "\n",
    "num = \"69\"\n",
    "\n",
    "print(f'Original value : {num}')\n",
    "print(type(num))\n",
    "\n",
    "num = int(num)\n",
    "\n",
    "print(f'Value after casting : {num}')\n",
    "print(type(num))"
   ]
  },
  {
   "cell_type": "code",
   "execution_count": 7,
   "metadata": {},
   "outputs": [
    {
     "name": "stdout",
     "output_type": "stream",
     "text": [
      "Enter your string (only numeral value): 12\n",
      "string is 12\n",
      "<class 'int'>\n",
      "Value after casting : 12\n",
      "<class 'int'>\n"
     ]
    }
   ],
   "source": [
    "# case 2 : use input() function\n",
    "\n",
    "x = input(\"Enter your string (only numeral value): \")\n",
    "\n",
    "print(f'string is {x}')\n",
    "print(type(num))\n",
    "\n",
    "x = int(x)\n",
    "\n",
    "print(f'Value after casting : {x}')\n",
    "print(type(x))"
   ]
  },
  {
   "cell_type": "code",
   "execution_count": 8,
   "metadata": {},
   "outputs": [
    {
     "name": "stdout",
     "output_type": "stream",
     "text": [
      "Original value : 14\n",
      "<class 'int'>\n",
      "Value after casting : 14\n",
      "<class 'str'>\n"
     ]
    }
   ],
   "source": [
    "# convert int to string \n",
    "\n",
    "y = 14\n",
    "\n",
    "print(f'Original value : {y}')\n",
    "print(type(y))\n",
    "\n",
    "y = str(y)\n",
    "\n",
    "print(f'Value after casting : {y}')\n",
    "print(type(y))"
   ]
  },
  {
   "cell_type": "code",
   "execution_count": 9,
   "metadata": {},
   "outputs": [
    {
     "name": "stdout",
     "output_type": "stream",
     "text": [
      "x : 2 and type : <class 'int'>\n",
      "y : 2 and type : <class 'int'>\n",
      "z : 3 and type : <class 'int'>\n"
     ]
    }
   ],
   "source": [
    "# conversion in int data type\n",
    "\n",
    "x = int(2)\n",
    "y = int(2.5)\n",
    "z = int('3')\n",
    "\n",
    "print(f'x : {x} and type : {type(x)}')\n",
    "print(f'y : {y} and type : {type(y)}')\n",
    "print(f'z : {z} and type : {type(z)}')"
   ]
  },
  {
   "cell_type": "code",
   "execution_count": 10,
   "metadata": {},
   "outputs": [
    {
     "name": "stdout",
     "output_type": "stream",
     "text": [
      "w : 2.0 and type : <class 'float'>\n",
      "x : 2.5 and type : <class 'float'>\n",
      "y : 3.0 and type : <class 'float'>\n",
      "z : 3.67 and type : <class 'float'>\n"
     ]
    }
   ],
   "source": [
    "# conversion in float data type\n",
    "\n",
    "w = float(2)\n",
    "x = float(2.5)\n",
    "y = float('3')\n",
    "z = float('3.67')\n",
    "\n",
    "print(f'w : {w} and type : {type(w)}')\n",
    "print(f'x : {x} and type : {type(x)}')\n",
    "print(f'y : {y} and type : {type(y)}')\n",
    "print(f'z : {z} and type : {type(z)}')"
   ]
  },
  {
   "cell_type": "code",
   "execution_count": 11,
   "metadata": {},
   "outputs": [
    {
     "name": "stdout",
     "output_type": "stream",
     "text": [
      "x : Hello! and type : <class 'str'>\n",
      "y : 2.5 and type : <class 'str'>\n",
      "z : 3 and type : <class 'str'>\n"
     ]
    }
   ],
   "source": [
    "# conversion in string data type\n",
    "\n",
    "x = str('Hello!')\n",
    "y = str(2.5)\n",
    "z = str(3)\n",
    "\n",
    "print(f'x : {x} and type : {type(x)}')\n",
    "print(f'y : {y} and type : {type(y)}')\n",
    "print(f'z : {z} and type : {type(z)}')"
   ]
  },
  {
   "cell_type": "code",
   "execution_count": null,
   "metadata": {},
   "outputs": [],
   "source": []
  }
 ],
 "metadata": {
  "kernelspec": {
   "display_name": "Python 3",
   "language": "python",
   "name": "python3"
  },
  "language_info": {
   "codemirror_mode": {
    "name": "ipython",
    "version": 3
   },
   "file_extension": ".py",
   "mimetype": "text/x-python",
   "name": "python",
   "nbconvert_exporter": "python",
   "pygments_lexer": "ipython3",
   "version": "3.7.6"
  }
 },
 "nbformat": 4,
 "nbformat_minor": 4
}
