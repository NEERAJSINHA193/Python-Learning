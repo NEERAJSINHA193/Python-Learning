{
 "cells": [
  {
   "cell_type": "markdown",
   "metadata": {},
   "source": [
    "## Lambda Function \n",
    "\n",
    "* function with no name \n",
    "* aka anonymous function\n",
    "* def keyword is used to define a normal function, lambda keyword is used to create a an anonymous function\n",
    "* lambda function can take any number of arguments but can only have one expression\n",
    "\n",
    "Syntax :\n",
    "    \n",
    "    lambda arguments : expression"
   ]
  },
  {
   "cell_type": "code",
   "execution_count": 1,
   "metadata": {},
   "outputs": [
    {
     "name": "stdout",
     "output_type": "stream",
     "text": [
      "15\n"
     ]
    }
   ],
   "source": [
    "# add a specific value to the argument\n",
    "# case 1 : by using a separate variable\n",
    "\n",
    "x = lambda a : a + 10\n",
    "\n",
    "print(x(5))"
   ]
  },
  {
   "cell_type": "code",
   "execution_count": 2,
   "metadata": {},
   "outputs": [
    {
     "data": {
      "text/plain": [
       "6"
      ]
     },
     "execution_count": 2,
     "metadata": {},
     "output_type": "execute_result"
    }
   ],
   "source": [
    "# case 2 : without using a variable\n",
    "\n",
    "(lambda a : a + 2)(4)"
   ]
  },
  {
   "cell_type": "code",
   "execution_count": 3,
   "metadata": {},
   "outputs": [
    {
     "data": {
      "text/plain": [
       "16"
      ]
     },
     "execution_count": 3,
     "metadata": {},
     "output_type": "execute_result"
    }
   ],
   "source": [
    "# write a function to print a square of a number \n",
    "# case 1 : using normal function in three line of code\n",
    "\n",
    "def square_num(num):\n",
    "    res = num ** 2\n",
    "    return res\n",
    "\n",
    "square_num(4)"
   ]
  },
  {
   "cell_type": "code",
   "execution_count": 4,
   "metadata": {},
   "outputs": [
    {
     "data": {
      "text/plain": [
       "16"
      ]
     },
     "execution_count": 4,
     "metadata": {},
     "output_type": "execute_result"
    }
   ],
   "source": [
    "# case 2 : using normal function in two line of code\n",
    "\n",
    "def square_num1(num):\n",
    "    return num**2\n",
    "\n",
    "square_num1(4)"
   ]
  },
  {
   "cell_type": "code",
   "execution_count": 5,
   "metadata": {},
   "outputs": [
    {
     "data": {
      "text/plain": [
       "16"
      ]
     },
     "execution_count": 5,
     "metadata": {},
     "output_type": "execute_result"
    }
   ],
   "source": [
    "# case 3 : using normal function in one line of code\n",
    "\n",
    "def square_num2(num) : return num**2\n",
    "\n",
    "square_num2(4)"
   ]
  },
  {
   "cell_type": "code",
   "execution_count": 6,
   "metadata": {},
   "outputs": [
    {
     "data": {
      "text/plain": [
       "16"
      ]
     },
     "execution_count": 6,
     "metadata": {},
     "output_type": "execute_result"
    }
   ],
   "source": [
    "# case 4 : using lambda function\n",
    "\n",
    "square = lambda num : num**2\n",
    "\n",
    "square(4)"
   ]
  },
  {
   "cell_type": "code",
   "execution_count": 7,
   "metadata": {},
   "outputs": [
    {
     "data": {
      "text/plain": [
       "12"
      ]
     },
     "execution_count": 7,
     "metadata": {},
     "output_type": "execute_result"
    }
   ],
   "source": [
    "# multiply one argument with the other\n",
    "\n",
    "(lambda x, y : x * y)(2,6)"
   ]
  },
  {
   "cell_type": "code",
   "execution_count": 8,
   "metadata": {},
   "outputs": [
    {
     "name": "stdout",
     "output_type": "stream",
     "text": [
      "sum of arguments : 16\n"
     ]
    }
   ],
   "source": [
    "# sum of three arguments\n",
    "\n",
    "res = lambda a, b, c : a + b + c\n",
    "\n",
    "print(f'sum of arguments : {res(2,4,10)}')"
   ]
  },
  {
   "cell_type": "code",
   "execution_count": 9,
   "metadata": {},
   "outputs": [
    {
     "name": "stdout",
     "output_type": "stream",
     "text": [
      "8\n"
     ]
    }
   ],
   "source": [
    "# use lambda expression inside a normal function\n",
    "\n",
    "def mul_num(num):\n",
    "    return lambda a : a * num\n",
    "\n",
    "res_func = mul_num(4)\n",
    "\n",
    "print(res_func(2))"
   ]
  },
  {
   "cell_type": "code",
   "execution_count": null,
   "metadata": {},
   "outputs": [],
   "source": []
  }
 ],
 "metadata": {
  "kernelspec": {
   "display_name": "Python 3",
   "language": "python",
   "name": "python3"
  },
  "language_info": {
   "codemirror_mode": {
    "name": "ipython",
    "version": 3
   },
   "file_extension": ".py",
   "mimetype": "text/x-python",
   "name": "python",
   "nbconvert_exporter": "python",
   "pygments_lexer": "ipython3",
   "version": "3.7.6"
  }
 },
 "nbformat": 4,
 "nbformat_minor": 4
}
