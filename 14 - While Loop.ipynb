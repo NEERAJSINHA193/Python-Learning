{
 "cells": [
  {
   "cell_type": "markdown",
   "metadata": {},
   "source": [
    "## While Loop\n",
    "\n",
    "* It is used to iterate over a block of code as long as the test expression (condition) is true.\n",
    "* aka entry-controlled loop (because entry inside while block depends on the condition)\n",
    "* here condition is tested prior to the iteration\n",
    "\n",
    "Syntax : \n",
    "    \n",
    "    while test_condition:\n",
    "        line 1....\n",
    "        line 2....\n",
    "        iteration "
   ]
  },
  {
   "cell_type": "code",
   "execution_count": 2,
   "metadata": {},
   "outputs": [
    {
     "name": "stdout",
     "output_type": "stream",
     "text": [
      "1\n",
      "2\n",
      "3\n",
      "4\n",
      "5\n"
     ]
    }
   ],
   "source": [
    "# print numbers from 1 to 5\n",
    "\n",
    "i = 1\n",
    "\n",
    "while i < 6:    # condition\n",
    "    print(i)\n",
    "    i = i + 1   # iteration"
   ]
  },
  {
   "cell_type": "code",
   "execution_count": 3,
   "metadata": {},
   "outputs": [
    {
     "name": "stdout",
     "output_type": "stream",
     "text": [
      "0\n",
      "1\n",
      "2\n",
      "3\n"
     ]
    }
   ],
   "source": [
    "# break the flow even if the condition is true\n",
    "# use break keyword\n",
    "\n",
    "j = 0\n",
    "\n",
    "while j < 7:\n",
    "    \n",
    "    if j == 4:\n",
    "        break\n",
    "    \n",
    "    print(j)\n",
    "    \n",
    "    j = j + 1"
   ]
  },
  {
   "cell_type": "code",
   "execution_count": 5,
   "metadata": {},
   "outputs": [
    {
     "name": "stdout",
     "output_type": "stream",
     "text": [
      "1\n",
      "3\n",
      "4\n",
      "5\n"
     ]
    }
   ],
   "source": [
    "# skip the iteration without breaking the rest of the flow\n",
    "# use continue keyword\n",
    "# most important thing : declare iteration statement prior to continue condition\n",
    "# otherwise loop would get stuck on the condition like k = 2 in this case\n",
    "\n",
    "k = 0\n",
    "\n",
    "while k < 5:\n",
    "    \n",
    "    k += 1\n",
    "    \n",
    "    if k == 2:\n",
    "        continue\n",
    "        \n",
    "    print(k)"
   ]
  },
  {
   "cell_type": "code",
   "execution_count": 6,
   "metadata": {},
   "outputs": [
    {
     "name": "stdout",
     "output_type": "stream",
     "text": [
      "i is less than 4\n",
      "i is less than 4\n",
      "i is less than 4\n",
      "i is not less than 4\n"
     ]
    }
   ],
   "source": [
    "# run the block of code even when the condition is false\n",
    "# use else keyword\n",
    "\n",
    "i = 1\n",
    "\n",
    "while i < 4:\n",
    "    \n",
    "    print(\"i is less than 4\")\n",
    "    i = i + 1\n",
    "    \n",
    "else:\n",
    "    print(\"i is not less than 4\")"
   ]
  },
  {
   "cell_type": "code",
   "execution_count": 7,
   "metadata": {},
   "outputs": [
    {
     "name": "stdout",
     "output_type": "stream",
     "text": [
      "Enter a number : 5\n",
      "5 is odd\n",
      "Enter a number : 3\n",
      "3 is odd\n",
      "Enter a number : 2\n",
      "2 is even\n",
      "Enter a number : 6\n",
      "6 is even\n",
      "Enter a number : 0\n",
      "0 is even\n"
     ]
    }
   ],
   "source": [
    "# get 5 random numbers from user and check whether they are odd or even\n",
    "# use input function (*returns string value)\n",
    "\n",
    "i = 0\n",
    "\n",
    "while i < 5:\n",
    "\n",
    "    num = int(input(\"Enter a number : \"))\n",
    "    \n",
    "    if num % 2 == 0:\n",
    "        print(f'{num} is even')\n",
    "    else:\n",
    "        print(f'{num} is odd')\n",
    "        \n",
    "    i = i + 1"
   ]
  },
  {
   "cell_type": "code",
   "execution_count": null,
   "metadata": {},
   "outputs": [],
   "source": []
  }
 ],
 "metadata": {
  "kernelspec": {
   "display_name": "Python 3",
   "language": "python",
   "name": "python3"
  },
  "language_info": {
   "codemirror_mode": {
    "name": "ipython",
    "version": 3
   },
   "file_extension": ".py",
   "mimetype": "text/x-python",
   "name": "python",
   "nbconvert_exporter": "python",
   "pygments_lexer": "ipython3",
   "version": "3.7.6"
  }
 },
 "nbformat": 4,
 "nbformat_minor": 4
}
