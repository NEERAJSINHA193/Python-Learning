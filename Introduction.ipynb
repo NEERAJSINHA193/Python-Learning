{
 "cells": [
  {
   "cell_type": "markdown",
   "metadata": {},
   "source": [
    "### What is a program?\n",
    "\n",
    "It is a set of instructions given to the computer to perform a specific task"
   ]
  },
  {
   "cell_type": "markdown",
   "metadata": {},
   "source": [
    "### What is a programming language?\n",
    "\n",
    "Language which is used to write a program"
   ]
  },
  {
   "cell_type": "markdown",
   "metadata": {},
   "source": [
    "### Examples of programming languages\n",
    "\n",
    "C, C++, Java, Python and more..."
   ]
  },
  {
   "cell_type": "markdown",
   "metadata": {},
   "source": [
    "### What is Python?\n",
    "\n",
    "* Programming language\n",
    "* Created by Guido Van Rossum\n",
    "* Released in 1991\n",
    "* First version : 0.9.0\n",
    "* Latest version : 3.9.0"
   ]
  },
  {
   "cell_type": "markdown",
   "metadata": {},
   "source": [
    "### Uses \n",
    "\n",
    "* Web applications\n",
    "* Software development\n",
    "* Scientific and Numeric calculations\n",
    "* Image processing application\n",
    "* Games development and more..."
   ]
  },
  {
   "cell_type": "markdown",
   "metadata": {},
   "source": [
    "### Features\n",
    "\n",
    "* Easy to learn and use (simple an straightforward syntax)\n",
    "* Interpreted language (executed one line at a time which makes debugging easy)\n",
    "* Cross platform language (run on different platforms like Windows, Linux, Unix and more..)\n",
    "* Free and open source (freely available for everyone)\n",
    "* Object oriented language (supports oops concepts; helps to write reusable code and develop applications in less code)\n",
    "* Large standard library (privodes a vast range of libraries such as Numpy, Pandas and more...)"
   ]
  },
  {
   "cell_type": "code",
   "execution_count": null,
   "metadata": {},
   "outputs": [],
   "source": []
  }
 ],
 "metadata": {
  "kernelspec": {
   "display_name": "Python 3",
   "language": "python",
   "name": "python3"
  },
  "language_info": {
   "codemirror_mode": {
    "name": "ipython",
    "version": 3
   },
   "file_extension": ".py",
   "mimetype": "text/x-python",
   "name": "python",
   "nbconvert_exporter": "python",
   "pygments_lexer": "ipython3",
   "version": "3.7.6"
  }
 },
 "nbformat": 4,
 "nbformat_minor": 4
}
